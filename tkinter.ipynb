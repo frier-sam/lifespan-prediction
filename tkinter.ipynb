{
 "cells": [
  {
   "cell_type": "code",
   "execution_count": 111,
   "metadata": {},
   "outputs": [],
   "source": [
    "# from kivy.app import App\n",
    "# from kivy.uix.button import Button\n",
    "\n",
    "# class TestApp(App):\n",
    "#     def build(self):\n",
    "#         return Button(text='Hello World')\n",
    "\n",
    "# TestApp().run()"
   ]
  },
  {
   "cell_type": "code",
   "execution_count": 112,
   "metadata": {},
   "outputs": [],
   "source": [
    "# from tkinter import *\n",
    "# window = Tk()\n",
    "# window.title(\"Welcome to LikeGeeks app\")\n",
    "# #lable\n",
    "# lbl = Label(window, text=\"text1\") #, font=(\"Arial Bold\", 50)\n",
    "# lbl.grid(column=0, row=2)\n",
    "# #entry\n",
    "# txt = Entry(window,width=10)#, state='disabled'\n",
    "# txt.grid(column=1,row=0)\n",
    "# #BUtton\n",
    "# def clicked(): \n",
    "#     res = \"Welcome to \" + txt.get()\n",
    "#     lbl.configure(text= res)\n",
    "# btn = Button(window, text=\"Click Me\", bg=\"orange\", fg=\"red\",command=clicked)\n",
    "# btn.grid(column=2, row=0)\n",
    "\n",
    "# txt.focus()\n",
    "# window.geometry('350x200')\n",
    "# window.mainloop()"
   ]
  },
  {
   "cell_type": "code",
   "execution_count": 142,
   "metadata": {},
   "outputs": [],
   "source": [
    "import pickle\n",
    "with open('vardict.pickle', 'rb') as handle:\n",
    "    vardict = pickle.load(handle)"
   ]
  },
  {
   "cell_type": "code",
   "execution_count": 143,
   "metadata": {},
   "outputs": [
    {
     "name": "stderr",
     "output_type": "stream",
     "text": [
      "E:\\anaconda\\lib\\site-packages\\keras\\engine\\saving.py:292: UserWarning: No training configuration found in save file: the model was *not* compiled. Compile it manually.\n",
      "  warnings.warn('No training configuration found in save file: '\n"
     ]
    }
   ],
   "source": [
    "from keras.models import load_model\n",
    "model = load_model('final/model-updates.h5') "
   ]
  },
  {
   "cell_type": "code",
   "execution_count": 144,
   "metadata": {
    "scrolled": true
   },
   "outputs": [],
   "source": [
    "from sklearn.externals import joblib \n",
    "scalerx = joblib.load('final/scx.pkl', mmap_mode=None)\n",
    "scalery = joblib.load('final/scy.pkl', mmap_mode=None)\n",
    "# labenc = joblib.load('final/lableenc.pkl', mmap_mode=None)"
   ]
  },
  {
   "cell_type": "code",
   "execution_count": 145,
   "metadata": {},
   "outputs": [],
   "source": [
    "chewcd = {\n",
    "    0:0,\n",
    "    1:6,\n",
    "    2:3,\n",
    "    3:7,\n",
    "    4:4,\n",
    "    5:5,\n",
    "    6:2,\n",
    "    7:1,\n",
    "}\n",
    "sts ={5: 0, 8: 1, 10: 2, 18: 3, 20: 4, 21: 5, 22: 6}"
   ]
  },
  {
   "cell_type": "code",
   "execution_count": 163,
   "metadata": {},
   "outputs": [],
   "source": [
    "import numpy as np\n",
    "from tkinter import *\n",
    "from tkinter.ttk import *\n",
    "window = Tk()\n",
    "window.title(\"Life span Prediction\")\n",
    "window.geometry('500x650')\n",
    "h1 = Label(window, text=\"                Find your Life span                          \")\n",
    "h1.grid(column=0, row=0)\n",
    "h2 = Label(window, text=\"Find your Life span\")\n",
    "h2.grid(column=2, row=0)\n",
    "\n",
    "\n",
    "\n",
    "r=1\n",
    "def combox(window,dic,t):\n",
    "    global r\n",
    "    combo = Combobox(window)\n",
    "    lbl = Label(window, text=t)\n",
    "    lbl.grid(column=0, row=r)\n",
    "    combo['values']= list(dic.keys())\n",
    "    combo.current(1) #set the selected item\n",
    "    combo.grid(column=2, row=r)\n",
    "    r+=1\n",
    "    return combo,lbl\n",
    "name ={}\n",
    "name1= {}\n",
    "for i in list(vardict.keys()):\n",
    "    name[i],name1[i] = combox(window,vardict[i],i)\n",
    "#weight \n",
    "wlbl = Label(window, text=\"weight in kg\")\n",
    "wlbl.grid(column=0, row=r+1)\n",
    "wei = Entry(window)\n",
    "wei.grid(column=2,row=r+1)\n",
    "\n",
    "    \n",
    "def clicked(window):\n",
    "    vals ={}\n",
    "    for i in list(vardict.keys()):\n",
    "        vals[i] = name[i].get()\n",
    "    inp = [sts[vardict['state'][vals['state']]],\n",
    "           vardict['Locality'][vals['Locality']],\n",
    "           vardict['Diagnosed_for'][vals['Diagnosed_for']],\n",
    "           vardict['Vehicle Ownership'][vals['Vehicle Ownership']],\n",
    "           vardict['Edu_qualification'][vals['Edu_qualification']],\n",
    "           vardict['Occupation'][vals['Occupation']],\n",
    "           vardict['Disability'][vals['Disability']],\n",
    "           chewcd[vardict['chewing_habits'][vals['chewing_habits']]],\n",
    "           vardict['smoking_habits'][vals['smoking_habits']],\n",
    "           vardict['alcohol'][vals['alcohol']],\n",
    "           int(wei.get()),\n",
    "           vardict['Gender'][vals['Gender']]]\n",
    "#     print(inp)\n",
    "    p =model.predict(scalerx.transform(np.array(inp).reshape(1, -1) ))\n",
    "    sho = Label(window, text='Predicted Life span -')\n",
    "    sho1 = Label(window)\n",
    "    sho.grid(column=0, row=r+3)\n",
    "    sho1.grid(column=2, row=r+3)\n",
    "    sho1.config(text=scalery.inverse_transform(p)[0][0])\n",
    "    return\n",
    "btn = Button(window, text=\"Submit\",command=lambda :clicked(window))\n",
    "btn.grid(column=2, row=r+2)\n",
    "window.mainloop()"
   ]
  },
  {
   "cell_type": "code",
   "execution_count": 73,
   "metadata": {},
   "outputs": [
    {
     "ename": "NameError",
     "evalue": "name 'inp' is not defined",
     "output_type": "error",
     "traceback": [
      "\u001b[1;31m---------------------------------------------------------------------------\u001b[0m",
      "\u001b[1;31mNameError\u001b[0m                                 Traceback (most recent call last)",
      "\u001b[1;32m<ipython-input-73-9364dbfb9e0b>\u001b[0m in \u001b[0;36m<module>\u001b[1;34m\u001b[0m\n\u001b[1;32m----> 1\u001b[1;33m \u001b[0minp\u001b[0m\u001b[1;33m\u001b[0m\u001b[0m\n\u001b[0m",
      "\u001b[1;31mNameError\u001b[0m: name 'inp' is not defined"
     ]
    }
   ],
   "source": [
    "inp"
   ]
  },
  {
   "cell_type": "code",
   "execution_count": null,
   "metadata": {},
   "outputs": [],
   "source": []
  },
  {
   "cell_type": "code",
   "execution_count": 25,
   "metadata": {},
   "outputs": [],
   "source": [
    "\n",
    "# from tkinter import *\n",
    "# window = Tk()\n",
    "# window.title(\"Welcome to LikeGeeks app\")\n",
    "# window.geometry('350x200')\n",
    "# lbl = Label(window, text=\"Hello\")\n",
    "# lbl.grid(column=0, row=0)\n",
    "# txt = Entry(window,width=10)\n",
    "# txt.grid(column=1, row=0)\n",
    "# def clicked():\n",
    "#     res = \"Welcome to \" + txt.get()\n",
    "#     lbl.configure(text= res)\n",
    "# btn = Button(window, text=\"Click Me\", command=clicked)\n",
    "# btn.grid(column=2, row=0)\n",
    "# window.mainloop() "
   ]
  },
  {
   "cell_type": "code",
   "execution_count": 148,
   "metadata": {},
   "outputs": [],
   "source": [
    "states = {\n",
    "   'Uttarakhand':5, \n",
    "    'Rajasthan':8, \n",
    "    #'Uttar Pradesh':9, \n",
    "    'Bihar':10, \n",
    "    'Assam':18, \n",
    "    'Jharkhand':20, \n",
    "    'Odisha':21, \n",
    "    'Chhattisgarh':22, \n",
    "    #'Madhya Pradesh':23,\n",
    "    'others':22\n",
    "}\n",
    "highqual = {\n",
    "'Illiterate':0,\n",
    "'Without formal education':1,\n",
    "'Below primary':2,\n",
    "'Primary':3,\n",
    "'Middle School':4,\n",
    "'Secondary/Matric (Class-X)':5,\n",
    "'Hr. Secondary/(class 12)':6,\n",
    "'Graduate':7,\n",
    "'Post Grad':8, \n",
    "'Diplomo':9\n",
    "}"
   ]
  },
  {
   "cell_type": "code",
   "execution_count": 149,
   "metadata": {},
   "outputs": [],
   "source": [
    "diagniosed_for = {\n",
    "    \n",
    "    'Not diagnosed':0 ,\n",
    "    'Diabetes':1,\n",
    "    'Hypertension':2,\n",
    "    'Chronic heart disease/failure':3,\n",
    "    'Myocardial infarction/heart attack':4,\n",
    "    'Stroke/Cerebrovascular accident':5,\n",
    "    'Epilepsy':6,\n",
    "    'Asthma/chronic respiratory failure':7,\n",
    "    'Goitre/ Thyroid disorder':8,\n",
    "    'Tuberculosis':9,\n",
    "    'Leprosy':10,\n",
    "    'Cancer-Respiratory system':11,\n",
    "    'Cancer-Gastro-intestinal system':12,\n",
    "    'Cancer-Genitourinary system':13,\n",
    "    'Cancer-Breast':14,\n",
    "    'Renal stone':15,\n",
    "    'Chronic renal failure':16,\n",
    "    'Gall stone /cholecystitis':17,\n",
    "    'Chronic  liver failure':18,\n",
    "    'Rheumatoid arthritis/osteoarthritis':19,\n",
    "    'Chronic  skin  diseases – psoriasis':20,\n",
    "    'Others (Hernia, hydrocele , peptic ulcer Cataractetc)':21,\n",
    "    'Glaucoma':22, \n",
    "    'Sinusitis,Tonsilitis':23, \n",
    "    'Flourosis':24, \n",
    "    'Pyorrhea':25, \n",
    "    'Rheumatic fever/Rheumatic heart disease':26, \n",
    "    'Tumour(any type)':27, \n",
    "    'Blood cancer/leukemia':28, \n",
    "    'Skin Cancer':29, \n",
    "    'Piles/Anal fissure,Anal fistula':30, \n",
    "    'Anaemia':30, \n",
    "    'Others(Hernia,Hydrocele,Peptic Ulcer etc)':9 \n",
    "    \n",
    "}"
   ]
  },
  {
   "cell_type": "code",
   "execution_count": 150,
   "metadata": {},
   "outputs": [],
   "source": [
    "ocuupation = {\n",
    "    'Cultivator':1,\n",
    "'Agricultural Wage labourer':2,\n",
    "'Non- Agricultural Wage labourer.':3,\n",
    "'Self-Employed(excluding cultivators)Own Account Workers':4,\n",
    "'Self-Employed(excluding cultivators)-Employers':5,\n",
    "'Self-Employed(excluding cultivators)-Un-paid family labourer':6,\n",
    "'Regular salaried/wage employees':7,\n",
    "'Did not work but was seeking and/or available for work' :8,\n",
    "'Attended educational Institution(student)':9,\n",
    "'Attending routine domestic chores, etc.':10,\n",
    "'Totally broke and unemployed':11,\n",
    "'Sex Workers':12,\n",
    "'Rentiers, Pensioners, Other remittance recipients.':13,\n",
    "'Not able to work due to disability':14,\n",
    "'Too old to work':15,\n",
    "'Others':16\n",
    "}"
   ]
  },
  {
   "cell_type": "code",
   "execution_count": 151,
   "metadata": {},
   "outputs": [],
   "source": [
    "disability = {\n",
    "'No Disability':0 ,\n",
    "'Mental':1,\n",
    "'Visual':2,\n",
    "'Hearing':3,\n",
    "'Speech':4,\n",
    "'Locomotor':5,\n",
    "'Multiple':6,\n",
    "'Others':7 \n",
    "}"
   ]
  },
  {
   "cell_type": "code",
   "execution_count": 152,
   "metadata": {},
   "outputs": [],
   "source": [
    "chew = {\n",
    "'Pan with tobacco':6,#1\n",
    "'Pan without tobacco':3,#2\n",
    "'Gutka/Pan masala with tobacco':7,#3\n",
    "'Gutka/Pan masala without tobacco':4,\n",
    "'Tobacco only':5,\n",
    "'Ex – Chewer' :2,#6\n",
    "'Never chewed':1,#7\n",
    "'Not known':0\n",
    "}"
   ]
  },
  {
   "cell_type": "code",
   "execution_count": 153,
   "metadata": {},
   "outputs": [],
   "source": [
    "chewcd = {\n",
    "    0:0,\n",
    "    1:6,\n",
    "    2:3,\n",
    "    3:7,\n",
    "    4:4,\n",
    "    5:5,\n",
    "    6:2,\n",
    "    7:1,\n",
    "}"
   ]
  },
  {
   "cell_type": "code",
   "execution_count": 154,
   "metadata": {},
   "outputs": [],
   "source": [
    "smoke = {\n",
    "    'Usual smoker':1,\n",
    "    'Occasional smoker':2,\n",
    "    'Ex – Smoker':3,\n",
    "    'Never smoked':4\n",
    "    #'Not known':0 changed to 2\n",
    "}"
   ]
  },
  {
   "cell_type": "code",
   "execution_count": 155,
   "metadata": {},
   "outputs": [],
   "source": [
    "alcohol={\n",
    "'Usual drinker':1,\n",
    "'Occasional drinker':2,\n",
    "'Ex – drinker':3,\n",
    "'Never drank':4,\n",
    "#'Not known':0 changed to 2\n",
    "}"
   ]
  },
  {
   "cell_type": "code",
   "execution_count": 156,
   "metadata": {},
   "outputs": [],
   "source": [
    "sex= {\n",
    "    'Male':1,\n",
    "    'Female':2\n",
    "}"
   ]
  },
  {
   "cell_type": "code",
   "execution_count": 157,
   "metadata": {},
   "outputs": [],
   "source": [
    "rural = {\n",
    "    'Rural':1, \n",
    "    'Urban':2\n",
    "}"
   ]
  },
  {
   "cell_type": "code",
   "execution_count": 158,
   "metadata": {},
   "outputs": [],
   "source": [
    "car ={\n",
    "    'Yes':1,\n",
    "    'No':2\n",
    "}"
   ]
  },
  {
   "cell_type": "code",
   "execution_count": 159,
   "metadata": {},
   "outputs": [],
   "source": [
    "vardict = {\n",
    "    'state':states,\n",
    "    'Locality':rural,\n",
    "    'Diagnosed_for':diagniosed_for,\n",
    "    'Vehicle Ownership':car,\n",
    "    'Edu_qualification':highqual,\n",
    "    'Occupation':ocuupation,\n",
    "    'Disability':disability,\n",
    "    'chewing_habits':chew,\n",
    "    'smoking_habits':smoke,\n",
    "    'alcohol':alcohol,\n",
    "    'Gender':sex\n",
    "    \n",
    "    \n",
    "}"
   ]
  },
  {
   "cell_type": "code",
   "execution_count": 160,
   "metadata": {},
   "outputs": [],
   "source": [
    "import pickle\n",
    "with open('vardict.pickle','wb') as file:\n",
    "    pickle.dump(vardict, file, protocol=pickle.HIGHEST_PROTOCOL)"
   ]
  },
  {
   "cell_type": "code",
   "execution_count": null,
   "metadata": {},
   "outputs": [],
   "source": [
    "# with open('filename.pickle', 'rb') as handle:\n",
    "#     b = pickle.load(handle)"
   ]
  }
 ],
 "metadata": {
  "kernelspec": {
   "display_name": "Python 3",
   "language": "python",
   "name": "python3"
  },
  "language_info": {
   "codemirror_mode": {
    "name": "ipython",
    "version": 3
   },
   "file_extension": ".py",
   "mimetype": "text/x-python",
   "name": "python",
   "nbconvert_exporter": "python",
   "pygments_lexer": "ipython3",
   "version": "3.6.6"
  }
 },
 "nbformat": 4,
 "nbformat_minor": 2
}
