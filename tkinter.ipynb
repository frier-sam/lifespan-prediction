{
 "cells": [
  {
   "cell_type": "code",
   "execution_count": 1,
   "metadata": {},
   "outputs": [
    {
     "name": "stderr",
     "output_type": "stream",
     "text": [
      "[INFO   ] [Logger      ] Record log in C:\\Users\\umasaiu\\.kivy\\logs\\kivy_18-11-28_2.txt\n",
      "[INFO   ] [Kivy        ] v1.10.1\n",
      "[INFO   ] [Python      ] v3.6.5 |Anaconda, Inc.| (default, Mar 29 2018, 13:32:41) [MSC v.1900 64 bit (AMD64)]\n",
      "[INFO   ] [Factory     ] 194 symbols loaded\n",
      "[INFO   ] [Image       ] Providers: img_tex, img_dds, img_pil, img_gif (img_sdl2, img_ffpyplayer ignored)\n",
      "[INFO   ] [Text        ] Provider: pil(['text_sdl2'] ignored)\n",
      "[CRITICAL] [Window      ] Unable to find any valuable Window provider.\n",
      "sdl2 - ImportError: DLL load failed: The specified module could not be found.\n",
      "  File \"C:\\ProgramData\\Anaconda3\\lib\\site-packages\\kivy\\core\\__init__.py\", line 59, in core_select_lib\n",
      "    fromlist=[modulename], level=0)\n",
      "  File \"C:\\ProgramData\\Anaconda3\\lib\\site-packages\\kivy\\core\\window\\window_sdl2.py\", line 26, in <module>\n",
      "    from kivy.core.window._window_sdl2 import _WindowSDL2Storage\n",
      "\n",
      "[CRITICAL] [App         ] Unable to get a Window, abort.\n"
     ]
    },
    {
     "ename": "SystemExit",
     "evalue": "1",
     "output_type": "error",
     "traceback": [
      "An exception has occurred, use %tb to see the full traceback.\n",
      "\u001b[1;31mSystemExit\u001b[0m\u001b[1;31m:\u001b[0m 1\n"
     ]
    },
    {
     "name": "stderr",
     "output_type": "stream",
     "text": [
      " C:\\ProgramData\\Anaconda3\\lib\\site-packages\\IPython\\core\\interactiveshell.py:2971: UserWarning: To exit: use 'exit', 'quit', or Ctrl-D.\n",
      "   warn(\"To exit: use 'exit', 'quit', or Ctrl-D.\", stacklevel=1)\n",
      " Exception in Tkinter callback\n",
      " Traceback (most recent call last):\n",
      "   File \"C:\\ProgramData\\Anaconda3\\lib\\tkinter\\__init__.py\", line 1702, in __call__\n",
      "     return self.func(*args)\n",
      "   File \"<ipython-input-15-8d3218e57c5e>\", line 9, in clicked\n",
      "     lbl.configure(text=\"Button was clicked !!\")\n",
      "   File \"C:\\ProgramData\\Anaconda3\\lib\\tkinter\\__init__.py\", line 1482, in configure\n",
      "     return self._configure('configure', cnf, kw)\n",
      "   File \"C:\\ProgramData\\Anaconda3\\lib\\tkinter\\__init__.py\", line 1473, in _configure\n",
      "     self.tk.call(_flatten((self._w, cmd)) + self._options(cnf))\n",
      " _tkinter.TclError: invalid command name \".!label\"\n",
      " Exception in Tkinter callback\n",
      " Traceback (most recent call last):\n",
      "   File \"C:\\ProgramData\\Anaconda3\\lib\\tkinter\\__init__.py\", line 1702, in __call__\n",
      "     return self.func(*args)\n",
      "   File \"<ipython-input-18-f061616f58d5>\", line 12, in clicked\n",
      "     lbl.configure(text=\"Button was clicked !!\")\n",
      "   File \"C:\\ProgramData\\Anaconda3\\lib\\tkinter\\__init__.py\", line 1482, in configure\n",
      "     return self._configure('configure', cnf, kw)\n",
      "   File \"C:\\ProgramData\\Anaconda3\\lib\\tkinter\\__init__.py\", line 1473, in _configure\n",
      "     self.tk.call(_flatten((self._w, cmd)) + self._options(cnf))\n",
      " _tkinter.TclError: invalid command name \".!label\"\n",
      " Exception in Tkinter callback\n",
      " Traceback (most recent call last):\n",
      "   File \"C:\\ProgramData\\Anaconda3\\lib\\tkinter\\__init__.py\", line 1702, in __call__\n",
      "     return self.func(*args)\n",
      "   File \"<ipython-input-18-f061616f58d5>\", line 12, in clicked\n",
      "     lbl.configure(text=\"Button was clicked !!\")\n",
      "   File \"C:\\ProgramData\\Anaconda3\\lib\\tkinter\\__init__.py\", line 1482, in configure\n",
      "     return self._configure('configure', cnf, kw)\n",
      "   File \"C:\\ProgramData\\Anaconda3\\lib\\tkinter\\__init__.py\", line 1473, in _configure\n",
      "     self.tk.call(_flatten((self._w, cmd)) + self._options(cnf))\n",
      " _tkinter.TclError: invalid command name \".!label\"\n"
     ]
    }
   ],
   "source": [
    "from kivy.app import App\n",
    "from kivy.uix.button import Button\n",
    "\n",
    "class TestApp(App):\n",
    "    def build(self):\n",
    "        return Button(text='Hello World')\n",
    "\n",
    "TestApp().run()"
   ]
  },
  {
   "cell_type": "code",
   "execution_count": 29,
   "metadata": {},
   "outputs": [],
   "source": [
    "from tkinter import *\n",
    "window = Tk()\n",
    "window.title(\"Welcome to LikeGeeks app\")\n",
    "#lable\n",
    "lbl = Label(window, text=\"text1\") #, font=(\"Arial Bold\", 50)\n",
    "lbl.grid(column=0, row=2)\n",
    "#entry\n",
    "txt = Entry(window,width=10)#, state='disabled'\n",
    "txt.grid(column=1,row=0)\n",
    "#BUtton\n",
    "def clicked(): \n",
    "    res = \"Welcome to \" + txt.get()\n",
    "    lbl.configure(text= res)\n",
    "btn = Button(window, text=\"Click Me\", bg=\"orange\", fg=\"red\",command=clicked)\n",
    "btn.grid(column=2, row=0)\n",
    "\n",
    "txt.focus()\n",
    "window.geometry('350x200')\n",
    "window.mainloop()"
   ]
  },
  {
   "cell_type": "code",
   "execution_count": 124,
   "metadata": {},
   "outputs": [],
   "source": [
    "\n",
    "from tkinter import *\n",
    "from tkinter.ttk import *\n",
    "window = Tk()\n",
    "window.title(\"Life span Prediction\")\n",
    "window.geometry('650x650')\n",
    "h1 = Label(window, text=\"                Find your Life span                          \")\n",
    "h1.grid(column=0, row=0)\n",
    "h2 = Label(window, text=\"Find your Life span\")\n",
    "h2.grid(column=2, row=0)\n",
    "r=1\n",
    "def combox(window,dic,t):\n",
    "    global r\n",
    "    combo = Combobox(window)\n",
    "    lbl = Label(window, text=t)\n",
    "    lbl.grid(column=0, row=r)\n",
    "    combo['values']= list(dic.keys())\n",
    "    combo.current(1) #set the selected item\n",
    "    combo.grid(column=2, row=r)\n",
    "    r+=1\n",
    "    return combo,lbl\n",
    "name ={}\n",
    "name1= {}\n",
    "for i in list(vardict.keys()):\n",
    "#     name = 'com'+str(i)\n",
    "#     name1 = 'lbl'+str(i)\n",
    "    name[i],name1[i] = combox(window,vardict[i],i)\n",
    "def clicked(window):\n",
    "    vals ={}\n",
    "    for i in list(vardict.keys()):\n",
    "        vals[i] = name[i].get()\n",
    "#     sho = Label(window, text=vals)\n",
    "#     sho.grid(column=0, row=r+1,rowspan = 10)\n",
    "    return\n",
    "btn = Button(window, text=\"Submit\",command=clicked(window))\n",
    "btn.grid(column=2, row=r)\n",
    "window.mainloop()"
   ]
  },
  {
   "cell_type": "code",
   "execution_count": 95,
   "metadata": {},
   "outputs": [
    {
     "data": {
      "text/plain": [
       "['state',\n",
       " 'Edu_qualification',\n",
       " 'Diagnosed_for',\n",
       " 'Occupation',\n",
       " 'Disability',\n",
       " 'chewing_habits',\n",
       " 'smoking_habits',\n",
       " 'alcohol',\n",
       " 'Gender',\n",
       " 'Locality',\n",
       " 'car Ownership']"
      ]
     },
     "execution_count": 95,
     "metadata": {},
     "output_type": "execute_result"
    }
   ],
   "source": [
    "\n",
    "list(vardict.keys())"
   ]
  },
  {
   "cell_type": "code",
   "execution_count": null,
   "metadata": {},
   "outputs": [],
   "source": []
  },
  {
   "cell_type": "code",
   "execution_count": 25,
   "metadata": {},
   "outputs": [],
   "source": [
    "\n",
    "# from tkinter import *\n",
    "# window = Tk()\n",
    "# window.title(\"Welcome to LikeGeeks app\")\n",
    "# window.geometry('350x200')\n",
    "# lbl = Label(window, text=\"Hello\")\n",
    "# lbl.grid(column=0, row=0)\n",
    "# txt = Entry(window,width=10)\n",
    "# txt.grid(column=1, row=0)\n",
    "# def clicked():\n",
    "#     res = \"Welcome to \" + txt.get()\n",
    "#     lbl.configure(text= res)\n",
    "# btn = Button(window, text=\"Click Me\", command=clicked)\n",
    "# btn.grid(column=2, row=0)\n",
    "# window.mainloop() "
   ]
  },
  {
   "cell_type": "code",
   "execution_count": 76,
   "metadata": {},
   "outputs": [],
   "source": [
    "states = {\n",
    "   'Uttarakhand':5, \n",
    "    'Rajasthan':8, \n",
    "    'Uttar Pradesh':9, \n",
    "    'Bihar':10, \n",
    "    'Assam':18, \n",
    "    'Jharkhand':20, \n",
    "    'Odisha':21, \n",
    "    'Chhattisgarh':22, \n",
    "    'Madhya Pradesh':23\n",
    "}\n",
    "highqual = {\n",
    "'Illiterate':0,\n",
    "'Without formal education':1,\n",
    "'Below primary':2,\n",
    "'Primary':3,\n",
    "'Middle School':4,\n",
    "'Secondary/Matric (Class-X)':5,\n",
    "'Hr. Secondary/(class 12)':6,\n",
    "'Graduate':7,\n",
    "'Post Grad':8, \n",
    "'Diplomo':9\n",
    "}"
   ]
  },
  {
   "cell_type": "code",
   "execution_count": 77,
   "metadata": {},
   "outputs": [],
   "source": [
    "diagniosed_for = {\n",
    "    \n",
    "    'Not diagnosed':0 ,\n",
    "    'Diabetes':1,\n",
    "    'Hypertension':2,\n",
    "    'Chronic heart disease/failure':3,\n",
    "    'Myocardial infarction/heart attack':4,\n",
    "    'Stroke/Cerebrovascular accident':5,\n",
    "    'Epilepsy':6,\n",
    "    'Asthma/chronic respiratory failure':7,\n",
    "    'Goitre/ Thyroid disorder':8,\n",
    "    'Tuberculosis':9,\n",
    "    'Leprosy':10,\n",
    "    'Cancer-Respiratory system':11,\n",
    "    'Cancer-Gastro-intestinal system':12,\n",
    "    'Cancer-Genitourinary system':13,\n",
    "    'Cancer-Breast':14,\n",
    "    'Renal stone':15,\n",
    "    'Chronic renal failure':16,\n",
    "    'Gall stone /cholecystitis':17,\n",
    "    'Chronic  liver failure':18,\n",
    "    'Rheumatoid arthritis/osteoarthritis':19,\n",
    "    'Chronic  skin  diseases – psoriasis':20,\n",
    "    'Others (Hernia, hydrocele , peptic ulcer Cataractetc)':21,\n",
    "    'Glaucoma':22, \n",
    "    'Sinusitis,Tonsilitis':23, \n",
    "    'Flourosis':24, \n",
    "    'Pyorrhea':25, \n",
    "    'Rheumatic fever/Rheumatic heart disease':26, \n",
    "    'Tumour(any type)':27, \n",
    "    'Blood cancer/leukemia':28, \n",
    "    'Skin Cancer':29, \n",
    "    'Piles/Anal fissure,Anal fistula':30, \n",
    "    'Anaemia':30, \n",
    "    'Others(Hernia,Hydrocele,Peptic Ulcer etc)':9 \n",
    "    \n",
    "}"
   ]
  },
  {
   "cell_type": "code",
   "execution_count": 78,
   "metadata": {},
   "outputs": [],
   "source": [
    "ocuupation = {\n",
    "    'Cultivator':1,\n",
    "'Agricultural Wage labourer':2,\n",
    "'Non- Agricultural Wage labourer.':3,\n",
    "'Self-Employed(excluding cultivators)Own Account Workers':4,\n",
    "'Self-Employed(excluding cultivators)-Employers':5,\n",
    "'Self-Employed(excluding cultivators)-Un-paid family labourer':6,\n",
    "'Regular salaried/wage employees':7,\n",
    "'Did not work but was seeking and/or available for work' :8,\n",
    "'Attended educational Institution(student)':9,\n",
    "'Attending routine domestic chores, etc.':10,\n",
    "'Totally broke and unemployed':11,\n",
    "'Sex Workers':12,\n",
    "'Rentiers, Pensioners, Other remittance recipients.':13,\n",
    "'Not able to work due to disability':14,\n",
    "'Too old to work':15,\n",
    "'Others':16\n",
    "}"
   ]
  },
  {
   "cell_type": "code",
   "execution_count": 79,
   "metadata": {},
   "outputs": [],
   "source": [
    "disability = {\n",
    "'No Disability':0 ,\n",
    "'Mental':1,\n",
    "'Visual':2,\n",
    "'Hearing':3,\n",
    "'Speech':4,\n",
    "'Locomotor':5,\n",
    "'Multiple':6,\n",
    "'Others':7 \n",
    "}"
   ]
  },
  {
   "cell_type": "code",
   "execution_count": 80,
   "metadata": {},
   "outputs": [],
   "source": [
    "chew = {\n",
    "'Pan with tobacco':6,#1\n",
    "'Pan without tobacco':3,#2\n",
    "'Gutka/Pan masala with tobacco':7,#3\n",
    "'Gutka/Pan masala without tobacco':4,\n",
    "'Tobacco only':5,\n",
    "'Ex – Chewer' :2,#6\n",
    "'Never chewed':1,#7\n",
    "'Not known':0\n",
    "}"
   ]
  },
  {
   "cell_type": "code",
   "execution_count": 81,
   "metadata": {},
   "outputs": [],
   "source": [
    "chewcd = {\n",
    "    0:0,\n",
    "    1:6,\n",
    "    2:3,\n",
    "    3:7,\n",
    "    4:4,\n",
    "    5:5,\n",
    "    6:2,\n",
    "    7:1,\n",
    "}"
   ]
  },
  {
   "cell_type": "code",
   "execution_count": 82,
   "metadata": {},
   "outputs": [],
   "source": [
    "smoke = {\n",
    "    'Usual smoker':1,\n",
    "    'Occasional smoker':2,\n",
    "    'Ex – Smoker':3,\n",
    "    'Never smoked':4\n",
    "    #'Not known':0 changed to 2\n",
    "}"
   ]
  },
  {
   "cell_type": "code",
   "execution_count": 83,
   "metadata": {},
   "outputs": [],
   "source": [
    "alcohol={\n",
    "'Usual drinker':1,\n",
    "'Occasional drinker':2,\n",
    "'Ex – drinker':3,\n",
    "'Never drank':4,\n",
    "#'Not known':0 changed to 2\n",
    "}"
   ]
  },
  {
   "cell_type": "code",
   "execution_count": 84,
   "metadata": {},
   "outputs": [],
   "source": [
    "sex= {\n",
    "    'Male':1,\n",
    "    'Female':2\n",
    "}"
   ]
  },
  {
   "cell_type": "code",
   "execution_count": 85,
   "metadata": {},
   "outputs": [],
   "source": [
    "rural = {\n",
    "    'Rural':1, \n",
    "    'Urban':2\n",
    "}"
   ]
  },
  {
   "cell_type": "code",
   "execution_count": 86,
   "metadata": {},
   "outputs": [],
   "source": [
    "car ={\n",
    "    'Yes':1,\n",
    "    'No':2\n",
    "}"
   ]
  },
  {
   "cell_type": "code",
   "execution_count": 93,
   "metadata": {},
   "outputs": [],
   "source": [
    "vardict = {\n",
    "    'state':states,\n",
    "    'Edu_qualification':highqual,\n",
    "    'Diagnosed_for':diagniosed_for,\n",
    "    'Occupation':ocuupation,\n",
    "    'Disability':disability,\n",
    "    'chewing_habits':chew,\n",
    "    'smoking_habits':smoke,\n",
    "    'alcohol':alcohol,\n",
    "    'Gender':sex,\n",
    "    'Locality':rural,\n",
    "    'car Ownership':car\n",
    "}"
   ]
  },
  {
   "cell_type": "code",
   "execution_count": 94,
   "metadata": {},
   "outputs": [],
   "source": [
    "import pickle\n",
    "with open('vardict.pickle','wb') as file:\n",
    "    pickle.dump(vardict, file, protocol=pickle.HIGHEST_PROTOCOL)"
   ]
  },
  {
   "cell_type": "code",
   "execution_count": null,
   "metadata": {},
   "outputs": [],
   "source": [
    "# with open('filename.pickle', 'rb') as handle:\n",
    "#     b = pickle.load(handle)"
   ]
  }
 ],
 "metadata": {
  "kernelspec": {
   "display_name": "Python 3",
   "language": "python",
   "name": "python3"
  },
  "language_info": {
   "codemirror_mode": {
    "name": "ipython",
    "version": 3
   },
   "file_extension": ".py",
   "mimetype": "text/x-python",
   "name": "python",
   "nbconvert_exporter": "python",
   "pygments_lexer": "ipython3",
   "version": "3.6.5"
  }
 },
 "nbformat": 4,
 "nbformat_minor": 2
}
